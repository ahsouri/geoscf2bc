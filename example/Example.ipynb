{
 "cells": [
  {
   "cell_type": "markdown",
   "id": "6a3e5a41-0cd3-4226-a2ef-e994553079c9",
   "metadata": {},
   "source": [
    "<a href=\"https://colab.research.google.com/github/barronh/geoscf2bc/blob/main/example/Example.ipynb\" target=\"_parent\"><img src=\"https://colab.research.google.com/assets/colab-badge.svg\" alt=\"Open In Colab\"/></a>"
   ]
  },
  {
   "cell_type": "markdown",
   "id": "4518219f-2862-46d1-8a07-35f2fb6b78fb",
   "metadata": {
    "tags": []
   },
   "source": [
    "# Example Run\n",
    "\n",
    "* Installs geoscf2bc\n",
    "* Uses TEST domain from built-in GRIDDESC path (gdpath=None)\n",
    "* Makes 1 day of LBC (25h) that CMAQ requires (i.e, 00Z of next day)."
   ]
  },
  {
   "cell_type": "code",
   "execution_count": null,
   "id": "6f2d580b-333c-447a-a8da-bcc91e2ead96",
   "metadata": {},
   "outputs": [],
   "source": [
    "# This line only needs to be run once. Comment out if reusing.\n",
    "!python -m pip install -qq git+https://github.com/barronh/geoscf2bc.git"
   ]
  },
  {
   "cell_type": "code",
   "execution_count": null,
   "id": "f69b1356-d8fb-4f08-8e93-ca93172f63f2",
   "metadata": {},
   "outputs": [],
   "source": [
    "from geoscf2bc.drivers import default\n",
    "GDNAM = 'TEST'\n",
    "gdpath = None\n",
    "sdate = '2024-01-01T00'\n",
    "edate = '2024-01-02T00'\n",
    "bcpaths = default(GDNAM=GDNAM, gdpath=gdpath, SDATE=sdate, EDATE=edate)\n",
    "print(len(bcpaths), bcpaths[0])\n",
    "icpaths = default(GDNAM=GDNAM, gdpath=gdpath, SDATE=sdate, EDATE=sdate, ftype=1)\n",
    "print(len(icpaths), icpaths[0])"
   ]
  },
  {
   "cell_type": "markdown",
   "id": "eb33b803-1a7e-4a22-bca2-7ffd2ca35221",
   "metadata": {},
   "source": [
    "## Successful Check\n",
    "\n",
    "Output should look like the following:\n",
    "\n",
    "```\n",
    "Using default vertical grid: VGTYP=-9999 VGTOP=5000.0 and 35 layers:\n",
    "[1.     0.9975 0.995  0.99   0.985  0.98   0.97   0.96   0.95   0.94\n",
    " 0.93   0.92   0.91   0.9    0.88   0.86   0.84   0.82   0.8    0.77\n",
    " 0.74   0.7    0.65   0.6    0.55   0.5    0.45   0.4    0.35   0.3\n",
    " 0.25   0.2    0.15   0.1    0.05   0.    ]\n",
    "Using cached TEST/2024/01/01/BCON_geoscf_cb6r3_ae7_TEST_2024-01-01T00_25h.nc cached\n",
    "TEST/2024/01/01/BCON_geoscf_cb6r3_ae7_TEST_2024-01-01T00_25h.nc\n",
    "1 TEST/2024/01/01/BCON_geoscf_cb6r3_ae7_TEST_2024-01-01T00_25h.nc\n",
    "Using default vertical grid: VGTYP=-9999 VGTOP=5000.0 and 35 layers:\n",
    "[1.     0.9975 0.995  0.99   0.985  0.98   0.97   0.96   0.95   0.94\n",
    " 0.93   0.92   0.91   0.9    0.88   0.86   0.84   0.82   0.8    0.77\n",
    " 0.74   0.7    0.65   0.6    0.55   0.5    0.45   0.4    0.35   0.3\n",
    " 0.25   0.2    0.15   0.1    0.05   0.    ]\n",
    "TEST/2024/01/01/ICON_geoscf_cb6r3_ae7_TEST_2024-01-01T00_2024-01-01T00_1h.nc\n",
    "1 TEST/2024/01/01/ICON_geoscf_cb6r3_ae7_TEST_2024-01-01T00_2024-01-01T00_1h.nc\n",
    "```"
   ]
  },
  {
   "cell_type": "code",
   "execution_count": null,
   "id": "26345be5-966a-44fa-8a9c-057fb24386e4",
   "metadata": {},
   "outputs": [],
   "source": []
  }
 ],
 "metadata": {
  "kernelspec": {
   "display_name": "Python 3.6",
   "language": "python",
   "name": "python3"
  },
  "language_info": {
   "codemirror_mode": {
    "name": "ipython",
    "version": 3
   },
   "file_extension": ".py",
   "mimetype": "text/x-python",
   "name": "python",
   "nbconvert_exporter": "python",
   "pygments_lexer": "ipython3",
   "version": "3.11.11"
  }
 },
 "nbformat": 4,
 "nbformat_minor": 5
}
